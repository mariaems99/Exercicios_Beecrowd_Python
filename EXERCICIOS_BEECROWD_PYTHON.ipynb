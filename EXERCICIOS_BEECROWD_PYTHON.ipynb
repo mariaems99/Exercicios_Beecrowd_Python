{
  "nbformat": 4,
  "nbformat_minor": 0,
  "metadata": {
    "colab": {
      "provenance": [],
      "authorship_tag": "ABX9TyOFrZhBWsmHC6QF2QI7I3VK",
      "include_colab_link": true
    },
    "kernelspec": {
      "name": "python3",
      "display_name": "Python 3"
    },
    "language_info": {
      "name": "python"
    }
  },
  "cells": [
    {
      "cell_type": "markdown",
      "metadata": {
        "id": "view-in-github",
        "colab_type": "text"
      },
      "source": [
        "<a href=\"https://colab.research.google.com/github/mariaems99/Exercicios_Beecrowd_Python/blob/main/EXERCICIOS_BEECROWD_PYTHON.ipynb\" target=\"_parent\"><img src=\"https://colab.research.google.com/assets/colab-badge.svg\" alt=\"Open In Colab\"/></a>"
      ]
    },
    {
      "cell_type": "markdown",
      "source": [
        "#EXERCICIOS NÍVEL INICIANTE COM A LINGUAGEM PYTHON\n",
        "\n",
        "\n",
        "####https://peps.python.org/pep-0008/#descriptive-naming-styles\n"
      ],
      "metadata": {
        "id": "9SO7Ywn8GOz0"
      }
    },
    {
      "cell_type": "markdown",
      "source": [
        "##Extremamente Básico\n",
        "\n",
        "Leia 2 valores inteiros e armazene-os nas variáveis A e B. Efetue a soma de A e B atribuindo o seu resultado na variável X. Imprima X conforme exemplo apresentado abaixo. Não apresente mensagem alguma além daquilo que está sendo especificado e não esqueça de imprimir o fim de linha após o resultado, caso contrário, você receberá \"Presentation Error\".\n",
        "\n",
        "Entrada\n",
        "A entrada contém 2 valores inteiros.\n",
        "\n",
        "Saída\n",
        "Imprima a mensagem \"X = \" (letra X maiúscula) seguido pelo valor da variável X e pelo final de linha. Cuide para que tenha um espaço antes e depois do sinal de igualdade, conforme o exemplo abaixo."
      ],
      "metadata": {
        "id": "TF0MIHdRGwaM"
      }
    },
    {
      "cell_type": "code",
      "source": [
        "valor_1 = int(input('Digite o primeiro valor:'))\n",
        "valor_2 = int(input('Digite o segundo valor:'))\n",
        "soma = (valor_1 + valor_2)\n",
        "print(soma)"
      ],
      "metadata": {
        "colab": {
          "base_uri": "https://localhost:8080/"
        },
        "id": "QIyv9sczHQVk",
        "outputId": "e2ee5ff1-dedf-4776-c400-7677ac9bf753"
      },
      "execution_count": 6,
      "outputs": [
        {
          "output_type": "stream",
          "name": "stdout",
          "text": [
            "Digite o primeiro valor:10\n",
            "Digite o segundo valor:9\n",
            "19\n"
          ]
        }
      ]
    },
    {
      "cell_type": "markdown",
      "source": [
        "#Área do Círculo\n",
        "\n",
        "A fórmula para calcular a área de uma circunferência é: area = π . raio2. Considerando para este problema que π = 3.14159:\n",
        "\n",
        "- Efetue o cálculo da área, elevando o valor de raio ao quadrado e multiplicando por π.\n",
        "\n",
        "Entrada\n",
        "A entrada contém um valor de ponto flutuante (dupla precisão), no caso, a variável raio.\n",
        "\n",
        "Saída\n",
        "Apresentar a mensagem \"A=\" seguido pelo valor da variável area, conforme exemplo abaixo, com 4 casas após o ponto decimal. Utilize variáveis de dupla precisão (double). Como todos os problemas, não esqueça de imprimir o fim de linha após o resultado, caso contrário, você receberá \"Presentation Error\"."
      ],
      "metadata": {
        "id": "WfY1JZWvIrAV"
      }
    },
    {
      "cell_type": "code",
      "source": [
        "import math  #importar biblioteca math\n",
        "\n",
        "raio = float(input('Digite o raio:'))\n",
        "area = math.pi * raio ** 2    #valor de pi = math.pi\n",
        "print(f'Área = {area:.4f}')\n"
      ],
      "metadata": {
        "colab": {
          "base_uri": "https://localhost:8080/"
        },
        "id": "S9i2OFb6IDAb",
        "outputId": "e4dd4e7f-f744-4c6c-bcfb-ea3020d148ea"
      },
      "execution_count": 10,
      "outputs": [
        {
          "output_type": "stream",
          "name": "stdout",
          "text": [
            "Digite o raio:2.00\n",
            "Área = 12.5664\n"
          ]
        }
      ]
    },
    {
      "cell_type": "markdown",
      "source": [
        "#Soma Simples\n",
        "\n",
        "Leia dois valores inteiros, no caso para variáveis A e B. A seguir, calcule a soma entre elas e atribua à variável SOMA. A seguir escrever o valor desta variável.\n",
        "\n",
        "Entrada\n",
        "O arquivo de entrada contém 2 valores inteiros.\n",
        "\n",
        "Saída\n",
        "Imprima a mensagem \"SOMA\" com todas as letras maiúsculas, com um espaço em branco antes e depois da igualdade seguido pelo valor correspondente à soma de A e B. Como todos os problemas, não esqueça de imprimir o fim de linha após o resultado, caso contrário, você receberá \"Presentation Error\".\n"
      ],
      "metadata": {
        "id": "fus9GOaoMLUN"
      }
    },
    {
      "cell_type": "code",
      "source": [
        "valor_1 = int(input('Digite o primeiro valor'))\n",
        "valor_2 = int(input('Digite o segundo valor'))\n",
        "\n",
        "soma = (valor_1 + valor_2)\n",
        "\n",
        "print(f'{soma}')"
      ],
      "metadata": {
        "colab": {
          "base_uri": "https://localhost:8080/"
        },
        "id": "RhyMduUxKwT2",
        "outputId": "8a49bd9a-71c0-4041-c9fc-0712296cc4e8"
      },
      "execution_count": 12,
      "outputs": [
        {
          "output_type": "stream",
          "name": "stdout",
          "text": [
            "Digite o primeiro valor30\n",
            "Digite o segundo valor10\n",
            "40\n"
          ]
        }
      ]
    },
    {
      "cell_type": "markdown",
      "source": [
        "#Produto Simples\n",
        "\n",
        "Leia dois valores inteiros. A seguir, calcule o produto entre estes dois valores e atribua esta operação à variável PROD. A seguir mostre a variável PROD com mensagem correspondente.   \n",
        "\n",
        "Entrada\n",
        "O arquivo de entrada contém 2 valores inteiros.\n",
        "\n",
        "Saída\n",
        "Imprima a mensagem \"PROD\" e a variável PROD conforme exemplo abaixo, com um espaço em branco antes e depois da igualdade. Não esqueça de imprimir o fim de linha após o produto, caso contrário seu programa apresentará a mensagem: “Presentation Error”.\n"
      ],
      "metadata": {
        "id": "D0Vn4AobNHCv"
      }
    },
    {
      "cell_type": "code",
      "source": [
        "\n",
        "valor_1 = int(input('Digite o primeiro valor'))\n",
        "valor_2 = int(input('Digite o segundo valor'))\n",
        "\n",
        "produto = (valor_1) * (valor_2)\n",
        "\n",
        "print(f'{produto}')"
      ],
      "metadata": {
        "colab": {
          "base_uri": "https://localhost:8080/"
        },
        "id": "NWalcRuaM4ly",
        "outputId": "04e58e86-5161-4be1-fcb2-e3b57d98e02e"
      },
      "execution_count": 13,
      "outputs": [
        {
          "output_type": "stream",
          "name": "stdout",
          "text": [
            "Digite o primeiro valor3\n",
            "Digite o segundo valor9\n",
            "27\n"
          ]
        }
      ]
    },
    {
      "cell_type": "markdown",
      "source": [
        "#Média 1\n",
        "\n",
        "Leia 2 valores de ponto flutuante de dupla precisão A e B, que correspondem a 2 notas de um aluno. A seguir, calcule a média do aluno, sabendo que a nota A tem peso 3.5 e a nota B tem peso 7.5 (A soma dos pesos portanto é 11). Assuma que cada nota pode ir de 0 até 10.0, sempre com uma casa decimal.\n",
        "\n",
        "Entrada\n",
        "O arquivo de entrada contém 2 valores com uma casa decimal cada um.\n",
        "\n",
        "Saída\n",
        "Imprima a mensagem \"MEDIA\" e a média do aluno conforme exemplo abaixo, com 5 dígitos após o ponto decimal e com um espaço em branco antes e depois da igualdade. Utilize variáveis de dupla precisão (double) e como todos os problemas, não esqueça de imprimir o fim de linha após o resultado, caso contrário, você receberá \"Presentation Error\"."
      ],
      "metadata": {
        "id": "XQWj3LKENrDV"
      }
    },
    {
      "cell_type": "code",
      "source": [
        "nota_1 = float(input('Digite a primeira nota:'))\n",
        "nota_2 = float(input('Digite a segunda nota:'))\n",
        "\n",
        "media = ((nota_1 * 3.5) + (nota_2 * 7.5))/(3.5 + 7.5)\n",
        "\n",
        "print(f'{media:.5f}')"
      ],
      "metadata": {
        "colab": {
          "base_uri": "https://localhost:8080/"
        },
        "id": "49QbOnWRNoPU",
        "outputId": "b791a484-847f-40a9-c8ce-21982dde5102"
      },
      "execution_count": 17,
      "outputs": [
        {
          "output_type": "stream",
          "name": "stdout",
          "text": [
            "Digite a primeira nota:5.0\n",
            "Digite a segunda nota:7.1\n",
            "6.43182\n"
          ]
        }
      ]
    },
    {
      "cell_type": "markdown",
      "source": [
        "#Média 2\n",
        "\n",
        "Leia 3 valores, no caso, variáveis A, B e C, que são as três notas de um aluno. A seguir, calcule a média do aluno, sabendo que a nota A tem peso 2, a nota B tem peso 3 e a nota C tem peso 5. Considere que cada nota pode ir de 0 até 10.0, sempre com uma casa decimal.\n",
        "\n",
        "Entrada\n",
        "O arquivo de entrada contém 3 valores com uma casa decimal, de dupla precisão (double).\n",
        "\n",
        "Saída\n",
        "Imprima a mensagem \"MEDIA\" e a média do aluno conforme exemplo abaixo, com 1 dígito após o ponto decimal e com um espaço em branco antes e depois da igualdade. Assim como todos os problemas, não esqueça de imprimir o fim de linha após o resultado, caso contrário, você receberá \"Presentation Error\".\n"
      ],
      "metadata": {
        "id": "GknXbrlSYB-W"
      }
    },
    {
      "cell_type": "code",
      "source": [
        "nota_1 = float(input('Digite a primeira nota:'))\n",
        "nota_2 = float(input('Digite a segunda nota:'))\n",
        "nota_3 = float(input('Digite a terceira nota:'))\n",
        "\n",
        "media = ((nota_1 * 2) + (nota_2 * 3) + (nota_3 * 5)) / (3+2+5)\n",
        "\n",
        "print(f'Média : {media:.1f}')"
      ],
      "metadata": {
        "colab": {
          "base_uri": "https://localhost:8080/"
        },
        "id": "jWiD1gj8XN7c",
        "outputId": "1cf7b729-4931-4a19-ca31-7be010f88db9"
      },
      "execution_count": 19,
      "outputs": [
        {
          "output_type": "stream",
          "name": "stdout",
          "text": [
            "Digite a primeira nota:5.0\n",
            "Digite a segunda nota:6.0\n",
            "Digite a terceira nota:7.0\n",
            "Média : 6.3\n"
          ]
        }
      ]
    },
    {
      "cell_type": "markdown",
      "source": [
        "#Diferença\n",
        "\n",
        "Leia quatro valores inteiros A, B, C e D. A seguir, calcule e mostre a diferença do produto de A e B pelo produto de C e D segundo a fórmula: DIFERENCA = (A * B - C * D).\n",
        "\n",
        "Entrada\n",
        "O arquivo de entrada contém 4 valores inteiros.\n",
        "\n",
        "Saída\n",
        "Imprima a mensagem DIFERENCA com todas as letras maiúsculas, conforme exemplo abaixo, com um espaço em branco antes e depois da igualdade."
      ],
      "metadata": {
        "id": "MoI11N5cZgKr"
      }
    },
    {
      "cell_type": "code",
      "source": [
        "a = int(input('Digite o valor A : '))\n",
        "b = int(input('Digite o valor B : '))\n",
        "c = int(input('Digite o valor C : '))\n",
        "d = int(input('Digite o valor D : '))\n",
        "\n",
        "diferenca = (a * b - c * d)\n",
        "\n",
        "print(f'{diferenca}')"
      ],
      "metadata": {
        "colab": {
          "base_uri": "https://localhost:8080/"
        },
        "id": "wb_VrYcRZlP5",
        "outputId": "8c1a7216-fd1b-4628-c7df-3234c404a6cc"
      },
      "execution_count": 21,
      "outputs": [
        {
          "output_type": "stream",
          "name": "stdout",
          "text": [
            "Digite o valor A : 5\n",
            "Digite o valor B : 6\n",
            "Digite o valor C : 7\n",
            "Digite o valor D : 8\n",
            "-26\n"
          ]
        }
      ]
    },
    {
      "cell_type": "markdown",
      "source": [
        "#Salário\n",
        "\n",
        "Escreva um programa que leia o número de um funcionário, seu número de horas trabalhadas, o valor que recebe por hora e calcula o salário desse funcionário. A seguir, mostre o número e o salário do funcionário, com duas casas decimais.\n",
        "\n",
        "Entrada\n",
        "O arquivo de entrada contém 2 números inteiros e 1 número com duas casas decimais, representando o número, quantidade de horas trabalhadas e o valor que o funcionário recebe por hora trabalhada, respectivamente.\n",
        "\n",
        "Saída\n",
        "Imprima o número e o salário do funcionário, conforme exemplo fornecido, com um espaço em branco antes e depois da igualdade. No caso do salário, também deve haver um espaço em branco após o $."
      ],
      "metadata": {
        "id": "H4vQbDhfadih"
      }
    },
    {
      "cell_type": "code",
      "source": [
        "numero_funcionario = int(input('Número do funcionário: '))\n",
        "horas_trabalhadas = int(input('Número de horas trabalhadas: ' ))\n",
        "valor_hora = float(input('Valor recebido por hora: '))\n",
        "\n",
        "salario = (horas_trabalhadas  * valor_hora)\n",
        "\n",
        "print(f'Número do funcionário: {numero_funcionario}')\n",
        "print(f'Salário: {salario:.2f}')"
      ],
      "metadata": {
        "colab": {
          "base_uri": "https://localhost:8080/"
        },
        "id": "_uQdus7-ZJDN",
        "outputId": "48641c73-8d2f-48ad-e35a-977189d7d2f3"
      },
      "execution_count": 24,
      "outputs": [
        {
          "output_type": "stream",
          "name": "stdout",
          "text": [
            "Número do funcionário: 25\n",
            "Número de horas trabalhadas: 100\n",
            "Valor recebido por hora: 5.50\n",
            "Número do funcionário: 25\n",
            "Salário: 550.00\n"
          ]
        }
      ]
    },
    {
      "cell_type": "markdown",
      "source": [
        "#Salário com Bônus\n",
        "\n",
        "Faça um programa que leia o nome de um vendedor, o seu salário fixo e o total de vendas efetuadas por ele no mês (em dinheiro). Sabendo que este vendedor ganha 15% de comissão sobre suas vendas efetuadas, informar o total a receber no final do mês, com duas casas decimais.\n",
        "\n",
        "Entrada\n",
        "O arquivo de entrada contém um texto (primeiro nome do vendedor) e 2 valores de dupla precisão (double) com duas casas decimais, representando o salário fixo do vendedor e montante total das vendas efetuadas por este vendedor, respectivamente.\n",
        "\n",
        "Saída\n",
        "Imprima o total que o funcionário deverá receber, conforme exemplo fornecido."
      ],
      "metadata": {
        "id": "MxDoh17UcQZn"
      }
    },
    {
      "cell_type": "code",
      "source": [
        "nome = input('Nome do vendedor: ')\n",
        "salario_fixo = float(input('Salário fixo: '))\n",
        "total_vendas = float(input('Total de vendas efetuadas no mês: '))\n",
        "\n",
        "total_recebido = (salario_fixo) + (total_vendas * 0.15)\n",
        "\n",
        "print(f'Total recebido = {total_recebido:.2f}')"
      ],
      "metadata": {
        "colab": {
          "base_uri": "https://localhost:8080/"
        },
        "id": "2fzHHWt0cF3S",
        "outputId": "bb9425e8-d319-461a-a4d2-e15fb92de8d0"
      },
      "execution_count": 26,
      "outputs": [
        {
          "output_type": "stream",
          "name": "stdout",
          "text": [
            "Nome do vendedor: Joao\n",
            "Salário fixo: 500\n",
            "Total de vendas efetuadas no mês: 1230.30\n",
            "Total recebido = 684.54\n"
          ]
        }
      ]
    },
    {
      "cell_type": "markdown",
      "source": [
        "#Cálculo Simples\n",
        "\n",
        "Neste problema, deve-se ler o código de uma peça 1, o número de peças 1, o valor unitário de cada peça 1, o código de uma peça 2, o número de peças 2 e o valor unitário de cada peça 2. Após, calcule e mostre o valor a ser pago.\n",
        "\n",
        "Entrada\n",
        "O arquivo de entrada contém duas linhas de dados. Em cada linha haverá 3 valores, respectivamente dois inteiros e um valor com 2 casas decimais.\n",
        "\n",
        "Saída\n",
        "A saída deverá ser uma mensagem conforme o exemplo fornecido abaixo, lembrando de deixar um espaço após os dois pontos e um espaço após o \"R$\". O valor deverá ser apresentado com 2 casas após o ponto."
      ],
      "metadata": {
        "id": "oD3qdIxRe2oW"
      }
    },
    {
      "cell_type": "code",
      "source": [
        "codigo_peca_1 = int(input('Digite o código da peça 1: '))\n",
        "numero_pecas_1 = int(input('Digite o número das peças'))\n",
        "valor_unitario_1 = float(input('Digite o valor unitário: '))\n",
        "\n",
        "codigo_peca_2 = int(input('Digite o código da peça 2: '))\n",
        "numero_pecas_2 = int(input('Digite o número das peças:'))\n",
        "valor_unitario_2 = float(input('Digite o valor unitário: '))\n",
        "\n",
        "valor_pago = (numero_pecas_1 * valor_unitario_1) + (numero_pecas_2 * valor_unitario_2)\n",
        "\n",
        "print(f'Valor a pagar: {valor_pago:.2f}')"
      ],
      "metadata": {
        "colab": {
          "base_uri": "https://localhost:8080/"
        },
        "id": "YIWD0dW9exJN",
        "outputId": "ff1c97f5-3f2b-4aca-9bd6-458abce249ba"
      },
      "execution_count": 27,
      "outputs": [
        {
          "output_type": "stream",
          "name": "stdout",
          "text": [
            "Digite o código da peça 1: 12\n",
            "Digite o número das peças1\n",
            "Digite o valor unitário: 5.30\n",
            "Digite o código da peça 2: 16\n",
            "Digite o número das peças2\n",
            "Digite o valor unitário: 5.10\n",
            "Valor a pagar: 15.50\n"
          ]
        }
      ]
    },
    {
      "cell_type": "markdown",
      "source": [
        "#Esfera\n",
        "\n",
        "Faça um programa que calcule e mostre o volume de uma esfera sendo fornecido o valor de seu raio (R). A fórmula para calcular o volume é: (4/3) * pi * R3. Considere (atribua) para pi o valor 3.14159.\n",
        "\n",
        "Dica: Ao utilizar a fórmula, procure usar (4/3.0) ou (4.0/3), pois algumas linguagens (dentre elas o C++), assumem que o resultado da divisão entre dois inteiros é outro inteiro.\n",
        "\n",
        "Entrada\n",
        "O arquivo de entrada contém um valor de ponto flutuante (dupla precisão), correspondente ao raio da esfera.\n",
        "\n",
        "Saída\n",
        "A saída deverá ser uma mensagem \"VOLUME\" conforme o exemplo fornecido abaixo, com um espaço antes e um espaço depois da igualdade. O valor deverá ser apresentado com 3 casas após o ponto."
      ],
      "metadata": {
        "id": "9s66gjOzhLik"
      }
    },
    {
      "cell_type": "code",
      "source": [
        "import math\n",
        "\n",
        "raio = float(input('Digite o valor do raio: '))\n",
        "\n",
        "volume_esfera = 4/3 * math.pi * raio **3\n",
        "\n",
        "print(f'Volume da esfera: {volume_esfera:.3f}')"
      ],
      "metadata": {
        "colab": {
          "base_uri": "https://localhost:8080/"
        },
        "id": "_bpno3cPg-mC",
        "outputId": "bb9bf035-4332-4e70-ab3d-1210f9c006ca"
      },
      "execution_count": 30,
      "outputs": [
        {
          "output_type": "stream",
          "name": "stdout",
          "text": [
            "Digite o valor do raio: 3\n",
            "Volume da esfera: 113.097\n"
          ]
        }
      ]
    },
    {
      "cell_type": "markdown",
      "source": [
        "#Área\n",
        "\n",
        "Escreva um programa que leia três valores com ponto flutuante de dupla precisão: A, B e C. Em seguida, calcule e mostre:\n",
        "a) a área do triângulo retângulo que tem A por base e C por altura.\n",
        "b) a área do círculo de raio C. (pi = 3.14159)\n",
        "c) a área do trapézio que tem A e B por bases e C por altura.\n",
        "d) a área do quadrado que tem lado B.\n",
        "e) a área do retângulo que tem lados A e B.\n",
        "\n",
        "Entrada\n",
        "O arquivo de entrada contém três valores com um dígito após o ponto decimal.\n",
        "\n",
        "Saída\n",
        "O arquivo de saída deverá conter 5 linhas de dados. Cada linha corresponde a uma das áreas descritas acima, sempre com mensagem correspondente e um espaço entre os dois pontos e o valor. O valor calculado deve ser apresentado com 3 dígitos após o ponto decimal."
      ],
      "metadata": {
        "id": "5hZWXX_rkhvQ"
      }
    },
    {
      "cell_type": "code",
      "source": [
        "import math\n",
        "\n",
        "a = float(input('Digite o primeiro valor: '))\n",
        "b = float(input('Digite o segundo valor: '))\n",
        "c = float(input('Digite o terceiro valor: '))\n",
        "\n",
        "area_triangulo_retangulo = (a*c)/2    #A = b*h/2]\n",
        "area_circulo = math.pi * c**2       #A = π r²\n",
        "area_trapezio = (a+b)*c/2     #A=(a+b)h/2\n",
        "area_quadrado = b**2     #A = L²\n",
        "area_retangulo = a*b      #A = b ⋅ h\n",
        "\n",
        "print(f'Triângulo: {area_triangulo_retangulo:.3f}')\n",
        "print(f'Círculo: {area_circulo:.3f}')\n",
        "print(f'Trapézio: {area_trapezio:.3f}')\n",
        "print(f'Quadrado: {area_quadrado:.3f}')\n",
        "print(f'Retângulo: {area_retangulo:.3f}')\n",
        "\n"
      ],
      "metadata": {
        "colab": {
          "base_uri": "https://localhost:8080/"
        },
        "id": "ewMjXYuokZ_N",
        "outputId": "799a38ab-d66f-434a-d3a8-5abbafccd528"
      },
      "execution_count": 36,
      "outputs": [
        {
          "output_type": "stream",
          "name": "stdout",
          "text": [
            "Digite o primeiro valor: 3.0\n",
            "Digite o segundo valor: 4.0\n",
            "Digite o terceiro valor: 5.2\n",
            "Triângulo: 7.800\n",
            "Círculo: 84.949\n",
            "Trapézio: 18.200\n",
            "Quadrado: 16.000\n",
            "Retângulo: 12.000\n"
          ]
        }
      ]
    },
    {
      "cell_type": "markdown",
      "source": [
        "#O Maior\n",
        "\n",
        "Faça um programa que leia três valores e apresente o maior dos três valores lidos seguido da mensagem “eh o maior”. Utilize a fórmula:\n",
        "\n",
        "\n",
        "\n",
        "Obs.: a fórmula apenas calcula o maior entre os dois primeiros (a e b). Um segundo passo, portanto é necessário para chegar no resultado esperado.\n",
        "\n",
        "Entrada\n",
        "O arquivo de entrada contém três valores inteiros.\n",
        "\n",
        "Saída\n",
        "Imprima o maior dos três valores seguido por um espaço e a mensagem \"eh o maior\".\n"
      ],
      "metadata": {
        "id": "A8Y9R_JArOOr"
      }
    },
    {
      "cell_type": "code",
      "source": [],
      "metadata": {
        "id": "ux5rkIvnqA2y"
      },
      "execution_count": null,
      "outputs": []
    }
  ]
}