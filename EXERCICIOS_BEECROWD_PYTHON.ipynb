{
  "nbformat": 4,
  "nbformat_minor": 0,
  "metadata": {
    "colab": {
      "provenance": [],
      "authorship_tag": "ABX9TyNVKVa37Ua98AKt9QF+NiJx",
      "include_colab_link": true
    },
    "kernelspec": {
      "name": "python3",
      "display_name": "Python 3"
    },
    "language_info": {
      "name": "python"
    }
  },
  "cells": [
    {
      "cell_type": "markdown",
      "metadata": {
        "id": "view-in-github",
        "colab_type": "text"
      },
      "source": [
        "<a href=\"https://colab.research.google.com/github/mariaems99/Exercicios_Beecrowd_Python/blob/main/EXERCICIOS_BEECROWD_PYTHON.ipynb\" target=\"_parent\"><img src=\"https://colab.research.google.com/assets/colab-badge.svg\" alt=\"Open In Colab\"/></a>"
      ]
    },
    {
      "cell_type": "markdown",
      "source": [
        "#EXERCICIOS NÍVEL INICIANTE COM A LINGUAGEM PYTHON\n",
        "\n",
        "\n",
        "####https://peps.python.org/pep-0008/#descriptive-naming-styles\n"
      ],
      "metadata": {
        "id": "9SO7Ywn8GOz0"
      }
    },
    {
      "cell_type": "markdown",
      "source": [
        "##Extremamente Básico\n",
        "\n",
        "Leia 2 valores inteiros e armazene-os nas variáveis A e B. Efetue a soma de A e B atribuindo o seu resultado na variável X. Imprima X conforme exemplo apresentado abaixo. Não apresente mensagem alguma além daquilo que está sendo especificado e não esqueça de imprimir o fim de linha após o resultado, caso contrário, você receberá \"Presentation Error\".\n",
        "\n",
        "Entrada\n",
        "A entrada contém 2 valores inteiros.\n",
        "\n",
        "Saída\n",
        "Imprima a mensagem \"X = \" (letra X maiúscula) seguido pelo valor da variável X e pelo final de linha. Cuide para que tenha um espaço antes e depois do sinal de igualdade, conforme o exemplo abaixo."
      ],
      "metadata": {
        "id": "TF0MIHdRGwaM"
      }
    },
    {
      "cell_type": "code",
      "source": [
        "valor_1 = int(input('Digite o primeiro valor:'))\n",
        "valor_2 = int(input('Digite o segundo valor:'))\n",
        "soma = (valor_1 + valor_2)\n",
        "print(soma)"
      ],
      "metadata": {
        "colab": {
          "base_uri": "https://localhost:8080/"
        },
        "id": "QIyv9sczHQVk",
        "outputId": "e2ee5ff1-dedf-4776-c400-7677ac9bf753"
      },
      "execution_count": 6,
      "outputs": [
        {
          "output_type": "stream",
          "name": "stdout",
          "text": [
            "Digite o primeiro valor:10\n",
            "Digite o segundo valor:9\n",
            "19\n"
          ]
        }
      ]
    },
    {
      "cell_type": "markdown",
      "source": [
        "#Área do Círculo\n",
        "\n",
        "A fórmula para calcular a área de uma circunferência é: area = π . raio2. Considerando para este problema que π = 3.14159:\n",
        "\n",
        "- Efetue o cálculo da área, elevando o valor de raio ao quadrado e multiplicando por π.\n",
        "\n",
        "Entrada\n",
        "A entrada contém um valor de ponto flutuante (dupla precisão), no caso, a variável raio.\n",
        "\n",
        "Saída\n",
        "Apresentar a mensagem \"A=\" seguido pelo valor da variável area, conforme exemplo abaixo, com 4 casas após o ponto decimal. Utilize variáveis de dupla precisão (double). Como todos os problemas, não esqueça de imprimir o fim de linha após o resultado, caso contrário, você receberá \"Presentation Error\"."
      ],
      "metadata": {
        "id": "WfY1JZWvIrAV"
      }
    },
    {
      "cell_type": "code",
      "source": [
        "import math  #importar biblioteca math\n",
        "\n",
        "raio = float(input('Digite o raio:'))\n",
        "area = math.pi * raio ** 2    #valor de pi = math.pi\n",
        "print(f'Área = {area:.4f}')\n"
      ],
      "metadata": {
        "colab": {
          "base_uri": "https://localhost:8080/"
        },
        "id": "S9i2OFb6IDAb",
        "outputId": "e4dd4e7f-f744-4c6c-bcfb-ea3020d148ea"
      },
      "execution_count": 10,
      "outputs": [
        {
          "output_type": "stream",
          "name": "stdout",
          "text": [
            "Digite o raio:2.00\n",
            "Área = 12.5664\n"
          ]
        }
      ]
    },
    {
      "cell_type": "markdown",
      "source": [
        "#Soma Simples\n",
        "\n",
        "Leia dois valores inteiros, no caso para variáveis A e B. A seguir, calcule a soma entre elas e atribua à variável SOMA. A seguir escrever o valor desta variável.\n",
        "\n",
        "Entrada\n",
        "O arquivo de entrada contém 2 valores inteiros.\n",
        "\n",
        "Saída\n",
        "Imprima a mensagem \"SOMA\" com todas as letras maiúsculas, com um espaço em branco antes e depois da igualdade seguido pelo valor correspondente à soma de A e B. Como todos os problemas, não esqueça de imprimir o fim de linha após o resultado, caso contrário, você receberá \"Presentation Error\".\n"
      ],
      "metadata": {
        "id": "fus9GOaoMLUN"
      }
    },
    {
      "cell_type": "code",
      "source": [
        "valor_1 = int(input('Digite o primeiro valor'))\n",
        "valor_2 = int(input('Digite o segundo valor'))\n",
        "\n",
        "soma = (valor_1 + valor_2)\n",
        "\n",
        "print(f'{soma}')"
      ],
      "metadata": {
        "colab": {
          "base_uri": "https://localhost:8080/"
        },
        "id": "RhyMduUxKwT2",
        "outputId": "8a49bd9a-71c0-4041-c9fc-0712296cc4e8"
      },
      "execution_count": 12,
      "outputs": [
        {
          "output_type": "stream",
          "name": "stdout",
          "text": [
            "Digite o primeiro valor30\n",
            "Digite o segundo valor10\n",
            "40\n"
          ]
        }
      ]
    },
    {
      "cell_type": "markdown",
      "source": [
        "#Produto Simples\n",
        "\n",
        "Leia dois valores inteiros. A seguir, calcule o produto entre estes dois valores e atribua esta operação à variável PROD. A seguir mostre a variável PROD com mensagem correspondente.   \n",
        "\n",
        "Entrada\n",
        "O arquivo de entrada contém 2 valores inteiros.\n",
        "\n",
        "Saída\n",
        "Imprima a mensagem \"PROD\" e a variável PROD conforme exemplo abaixo, com um espaço em branco antes e depois da igualdade. Não esqueça de imprimir o fim de linha após o produto, caso contrário seu programa apresentará a mensagem: “Presentation Error”.\n"
      ],
      "metadata": {
        "id": "D0Vn4AobNHCv"
      }
    },
    {
      "cell_type": "code",
      "source": [
        "\n",
        "valor_1 = int(input('Digite o primeiro valor'))\n",
        "valor_2 = int(input('Digite o segundo valor'))\n",
        "\n",
        "produto = (valor_1) * (valor_2)\n",
        "\n",
        "print(f'{produto}')"
      ],
      "metadata": {
        "colab": {
          "base_uri": "https://localhost:8080/"
        },
        "id": "NWalcRuaM4ly",
        "outputId": "04e58e86-5161-4be1-fcb2-e3b57d98e02e"
      },
      "execution_count": 13,
      "outputs": [
        {
          "output_type": "stream",
          "name": "stdout",
          "text": [
            "Digite o primeiro valor3\n",
            "Digite o segundo valor9\n",
            "27\n"
          ]
        }
      ]
    },
    {
      "cell_type": "markdown",
      "source": [
        "#Média 1\n",
        "\n",
        "Leia 2 valores de ponto flutuante de dupla precisão A e B, que correspondem a 2 notas de um aluno. A seguir, calcule a média do aluno, sabendo que a nota A tem peso 3.5 e a nota B tem peso 7.5 (A soma dos pesos portanto é 11). Assuma que cada nota pode ir de 0 até 10.0, sempre com uma casa decimal.\n",
        "\n",
        "Entrada\n",
        "O arquivo de entrada contém 2 valores com uma casa decimal cada um.\n",
        "\n",
        "Saída\n",
        "Imprima a mensagem \"MEDIA\" e a média do aluno conforme exemplo abaixo, com 5 dígitos após o ponto decimal e com um espaço em branco antes e depois da igualdade. Utilize variáveis de dupla precisão (double) e como todos os problemas, não esqueça de imprimir o fim de linha após o resultado, caso contrário, você receberá \"Presentation Error\"."
      ],
      "metadata": {
        "id": "XQWj3LKENrDV"
      }
    },
    {
      "cell_type": "code",
      "source": [],
      "metadata": {
        "id": "49QbOnWRNoPU"
      },
      "execution_count": null,
      "outputs": []
    }
  ]
}