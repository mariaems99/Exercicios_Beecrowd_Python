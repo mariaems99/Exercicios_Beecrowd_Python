{
  "nbformat": 4,
  "nbformat_minor": 0,
  "metadata": {
    "colab": {
      "provenance": [],
      "authorship_tag": "ABX9TyOlEcovGwpua/NOw+xk6QfJ",
      "include_colab_link": true
    },
    "kernelspec": {
      "name": "python3",
      "display_name": "Python 3"
    },
    "language_info": {
      "name": "python"
    }
  },
  "cells": [
    {
      "cell_type": "markdown",
      "metadata": {
        "id": "view-in-github",
        "colab_type": "text"
      },
      "source": [
        "<a href=\"https://colab.research.google.com/github/mariaems99/Exercicios_Beecrowd_Python/blob/main/EXERCICIOS_BEECROWD_PYTHON.ipynb\" target=\"_parent\"><img src=\"https://colab.research.google.com/assets/colab-badge.svg\" alt=\"Open In Colab\"/></a>"
      ]
    },
    {
      "cell_type": "markdown",
      "source": [
        "#EXERCICIOS NÍVEL INICIANTE COM A LINGUAGEM PYTHON\n",
        "\n",
        "\n",
        "####https://peps.python.org/pep-0008/#descriptive-naming-styles\n"
      ],
      "metadata": {
        "id": "9SO7Ywn8GOz0"
      }
    },
    {
      "cell_type": "markdown",
      "source": [
        "##Extremamente Básico\n",
        "\n",
        "Leia 2 valores inteiros e armazene-os nas variáveis A e B. Efetue a soma de A e B atribuindo o seu resultado na variável X. Imprima X conforme exemplo apresentado abaixo. Não apresente mensagem alguma além daquilo que está sendo especificado e não esqueça de imprimir o fim de linha após o resultado, caso contrário, você receberá \"Presentation Error\".\n",
        "\n",
        "Entrada\n",
        "A entrada contém 2 valores inteiros.\n",
        "\n",
        "Saída\n",
        "Imprima a mensagem \"X = \" (letra X maiúscula) seguido pelo valor da variável X e pelo final de linha. Cuide para que tenha um espaço antes e depois do sinal de igualdade, conforme o exemplo abaixo."
      ],
      "metadata": {
        "id": "TF0MIHdRGwaM"
      }
    },
    {
      "cell_type": "code",
      "source": [
        "valor_1 = int(input('Digite o primeiro valor:'))\n",
        "valor_2 = int(input('Digite o segundo valor:'))\n",
        "soma = (valor_1 + valor_2)\n",
        "print(soma)"
      ],
      "metadata": {
        "colab": {
          "base_uri": "https://localhost:8080/"
        },
        "id": "QIyv9sczHQVk",
        "outputId": "e2ee5ff1-dedf-4776-c400-7677ac9bf753"
      },
      "execution_count": null,
      "outputs": [
        {
          "output_type": "stream",
          "name": "stdout",
          "text": [
            "Digite o primeiro valor:10\n",
            "Digite o segundo valor:9\n",
            "19\n"
          ]
        }
      ]
    },
    {
      "cell_type": "markdown",
      "source": [
        "#Área do Círculo\n",
        "\n",
        "A fórmula para calcular a área de uma circunferência é: area = π . raio2. Considerando para este problema que π = 3.14159:\n",
        "\n",
        "- Efetue o cálculo da área, elevando o valor de raio ao quadrado e multiplicando por π.\n",
        "\n",
        "Entrada\n",
        "A entrada contém um valor de ponto flutuante (dupla precisão), no caso, a variável raio.\n",
        "\n",
        "Saída\n",
        "Apresentar a mensagem \"A=\" seguido pelo valor da variável area, conforme exemplo abaixo, com 4 casas após o ponto decimal. Utilize variáveis de dupla precisão (double). Como todos os problemas, não esqueça de imprimir o fim de linha após o resultado, caso contrário, você receberá \"Presentation Error\"."
      ],
      "metadata": {
        "id": "WfY1JZWvIrAV"
      }
    },
    {
      "cell_type": "code",
      "source": [
        "import math  #importar biblioteca math\n",
        "\n",
        "raio = float(input('Digite o raio:'))\n",
        "area = math.pi * raio ** 2    #valor de pi = math.pi\n",
        "print(f'Área = {area:.4f}')\n"
      ],
      "metadata": {
        "colab": {
          "base_uri": "https://localhost:8080/"
        },
        "id": "S9i2OFb6IDAb",
        "outputId": "e4dd4e7f-f744-4c6c-bcfb-ea3020d148ea"
      },
      "execution_count": null,
      "outputs": [
        {
          "output_type": "stream",
          "name": "stdout",
          "text": [
            "Digite o raio:2.00\n",
            "Área = 12.5664\n"
          ]
        }
      ]
    },
    {
      "cell_type": "markdown",
      "source": [
        "#Soma Simples\n",
        "\n",
        "Leia dois valores inteiros, no caso para variáveis A e B. A seguir, calcule a soma entre elas e atribua à variável SOMA. A seguir escrever o valor desta variável.\n",
        "\n",
        "Entrada\n",
        "O arquivo de entrada contém 2 valores inteiros.\n",
        "\n",
        "Saída\n",
        "Imprima a mensagem \"SOMA\" com todas as letras maiúsculas, com um espaço em branco antes e depois da igualdade seguido pelo valor correspondente à soma de A e B. Como todos os problemas, não esqueça de imprimir o fim de linha após o resultado, caso contrário, você receberá \"Presentation Error\".\n"
      ],
      "metadata": {
        "id": "fus9GOaoMLUN"
      }
    },
    {
      "cell_type": "code",
      "source": [
        "valor_1 = int(input('Digite o primeiro valor'))\n",
        "valor_2 = int(input('Digite o segundo valor'))\n",
        "\n",
        "soma = (valor_1 + valor_2)\n",
        "\n",
        "print(f'{soma}')"
      ],
      "metadata": {
        "colab": {
          "base_uri": "https://localhost:8080/"
        },
        "id": "RhyMduUxKwT2",
        "outputId": "8a49bd9a-71c0-4041-c9fc-0712296cc4e8"
      },
      "execution_count": null,
      "outputs": [
        {
          "output_type": "stream",
          "name": "stdout",
          "text": [
            "Digite o primeiro valor30\n",
            "Digite o segundo valor10\n",
            "40\n"
          ]
        }
      ]
    },
    {
      "cell_type": "markdown",
      "source": [
        "#Produto Simples\n",
        "\n",
        "Leia dois valores inteiros. A seguir, calcule o produto entre estes dois valores e atribua esta operação à variável PROD. A seguir mostre a variável PROD com mensagem correspondente.   \n",
        "\n",
        "Entrada\n",
        "O arquivo de entrada contém 2 valores inteiros.\n",
        "\n",
        "Saída\n",
        "Imprima a mensagem \"PROD\" e a variável PROD conforme exemplo abaixo, com um espaço em branco antes e depois da igualdade. Não esqueça de imprimir o fim de linha após o produto, caso contrário seu programa apresentará a mensagem: “Presentation Error”.\n"
      ],
      "metadata": {
        "id": "D0Vn4AobNHCv"
      }
    },
    {
      "cell_type": "code",
      "source": [
        "\n",
        "valor_1 = int(input('Digite o primeiro valor'))\n",
        "valor_2 = int(input('Digite o segundo valor'))\n",
        "\n",
        "produto = (valor_1) * (valor_2)\n",
        "\n",
        "print(f'{produto}')"
      ],
      "metadata": {
        "colab": {
          "base_uri": "https://localhost:8080/"
        },
        "id": "NWalcRuaM4ly",
        "outputId": "04e58e86-5161-4be1-fcb2-e3b57d98e02e"
      },
      "execution_count": null,
      "outputs": [
        {
          "output_type": "stream",
          "name": "stdout",
          "text": [
            "Digite o primeiro valor3\n",
            "Digite o segundo valor9\n",
            "27\n"
          ]
        }
      ]
    },
    {
      "cell_type": "markdown",
      "source": [
        "#Média 1\n",
        "\n",
        "Leia 2 valores de ponto flutuante de dupla precisão A e B, que correspondem a 2 notas de um aluno. A seguir, calcule a média do aluno, sabendo que a nota A tem peso 3.5 e a nota B tem peso 7.5 (A soma dos pesos portanto é 11). Assuma que cada nota pode ir de 0 até 10.0, sempre com uma casa decimal.\n",
        "\n",
        "Entrada\n",
        "O arquivo de entrada contém 2 valores com uma casa decimal cada um.\n",
        "\n",
        "Saída\n",
        "Imprima a mensagem \"MEDIA\" e a média do aluno conforme exemplo abaixo, com 5 dígitos após o ponto decimal e com um espaço em branco antes e depois da igualdade. Utilize variáveis de dupla precisão (double) e como todos os problemas, não esqueça de imprimir o fim de linha após o resultado, caso contrário, você receberá \"Presentation Error\"."
      ],
      "metadata": {
        "id": "XQWj3LKENrDV"
      }
    },
    {
      "cell_type": "code",
      "source": [
        "nota_1 = float(input('Digite a primeira nota:'))\n",
        "nota_2 = float(input('Digite a segunda nota:'))\n",
        "\n",
        "media = ((nota_1 * 3.5) + (nota_2 * 7.5))/(3.5 + 7.5)\n",
        "\n",
        "print(f'{media:.5f}')"
      ],
      "metadata": {
        "colab": {
          "base_uri": "https://localhost:8080/"
        },
        "id": "49QbOnWRNoPU",
        "outputId": "b791a484-847f-40a9-c8ce-21982dde5102"
      },
      "execution_count": null,
      "outputs": [
        {
          "output_type": "stream",
          "name": "stdout",
          "text": [
            "Digite a primeira nota:5.0\n",
            "Digite a segunda nota:7.1\n",
            "6.43182\n"
          ]
        }
      ]
    },
    {
      "cell_type": "markdown",
      "source": [
        "#Média 2\n",
        "\n",
        "Leia 3 valores, no caso, variáveis A, B e C, que são as três notas de um aluno. A seguir, calcule a média do aluno, sabendo que a nota A tem peso 2, a nota B tem peso 3 e a nota C tem peso 5. Considere que cada nota pode ir de 0 até 10.0, sempre com uma casa decimal.\n",
        "\n",
        "Entrada\n",
        "O arquivo de entrada contém 3 valores com uma casa decimal, de dupla precisão (double).\n",
        "\n",
        "Saída\n",
        "Imprima a mensagem \"MEDIA\" e a média do aluno conforme exemplo abaixo, com 1 dígito após o ponto decimal e com um espaço em branco antes e depois da igualdade. Assim como todos os problemas, não esqueça de imprimir o fim de linha após o resultado, caso contrário, você receberá \"Presentation Error\".\n"
      ],
      "metadata": {
        "id": "GknXbrlSYB-W"
      }
    },
    {
      "cell_type": "code",
      "source": [
        "nota_1 = float(input('Digite a primeira nota:'))\n",
        "nota_2 = float(input('Digite a segunda nota:'))\n",
        "nota_3 = float(input('Digite a terceira nota:'))\n",
        "\n",
        "media = ((nota_1 * 2) + (nota_2 * 3) + (nota_3 * 5)) / (3+2+5)\n",
        "\n",
        "print(f'Média : {media:.1f}')"
      ],
      "metadata": {
        "colab": {
          "base_uri": "https://localhost:8080/"
        },
        "id": "jWiD1gj8XN7c",
        "outputId": "1cf7b729-4931-4a19-ca31-7be010f88db9"
      },
      "execution_count": null,
      "outputs": [
        {
          "output_type": "stream",
          "name": "stdout",
          "text": [
            "Digite a primeira nota:5.0\n",
            "Digite a segunda nota:6.0\n",
            "Digite a terceira nota:7.0\n",
            "Média : 6.3\n"
          ]
        }
      ]
    },
    {
      "cell_type": "markdown",
      "source": [
        "#Diferença\n",
        "\n",
        "Leia quatro valores inteiros A, B, C e D. A seguir, calcule e mostre a diferença do produto de A e B pelo produto de C e D segundo a fórmula: DIFERENCA = (A * B - C * D).\n",
        "\n",
        "Entrada\n",
        "O arquivo de entrada contém 4 valores inteiros.\n",
        "\n",
        "Saída\n",
        "Imprima a mensagem DIFERENCA com todas as letras maiúsculas, conforme exemplo abaixo, com um espaço em branco antes e depois da igualdade."
      ],
      "metadata": {
        "id": "MoI11N5cZgKr"
      }
    },
    {
      "cell_type": "code",
      "source": [
        "a = int(input('Digite o valor A : '))\n",
        "b = int(input('Digite o valor B : '))\n",
        "c = int(input('Digite o valor C : '))\n",
        "d = int(input('Digite o valor D : '))\n",
        "\n",
        "diferenca = (a * b - c * d)\n",
        "\n",
        "print(f'{diferenca}')"
      ],
      "metadata": {
        "colab": {
          "base_uri": "https://localhost:8080/"
        },
        "id": "wb_VrYcRZlP5",
        "outputId": "8c1a7216-fd1b-4628-c7df-3234c404a6cc"
      },
      "execution_count": null,
      "outputs": [
        {
          "output_type": "stream",
          "name": "stdout",
          "text": [
            "Digite o valor A : 5\n",
            "Digite o valor B : 6\n",
            "Digite o valor C : 7\n",
            "Digite o valor D : 8\n",
            "-26\n"
          ]
        }
      ]
    },
    {
      "cell_type": "markdown",
      "source": [
        "#Salário\n",
        "\n",
        "Escreva um programa que leia o número de um funcionário, seu número de horas trabalhadas, o valor que recebe por hora e calcula o salário desse funcionário. A seguir, mostre o número e o salário do funcionário, com duas casas decimais.\n",
        "\n",
        "Entrada\n",
        "O arquivo de entrada contém 2 números inteiros e 1 número com duas casas decimais, representando o número, quantidade de horas trabalhadas e o valor que o funcionário recebe por hora trabalhada, respectivamente.\n",
        "\n",
        "Saída\n",
        "Imprima o número e o salário do funcionário, conforme exemplo fornecido, com um espaço em branco antes e depois da igualdade. No caso do salário, também deve haver um espaço em branco após o $."
      ],
      "metadata": {
        "id": "H4vQbDhfadih"
      }
    },
    {
      "cell_type": "code",
      "source": [
        "numero_funcionario = int(input('Número do funcionário: '))\n",
        "horas_trabalhadas = int(input('Número de horas trabalhadas: ' ))\n",
        "valor_hora = float(input('Valor recebido por hora: '))\n",
        "\n",
        "salario = (horas_trabalhadas  * valor_hora)\n",
        "\n",
        "print(f'Número do funcionário: {numero_funcionario}')\n",
        "print(f'Salário: {salario:.2f}')"
      ],
      "metadata": {
        "colab": {
          "base_uri": "https://localhost:8080/"
        },
        "id": "_uQdus7-ZJDN",
        "outputId": "48641c73-8d2f-48ad-e35a-977189d7d2f3"
      },
      "execution_count": null,
      "outputs": [
        {
          "output_type": "stream",
          "name": "stdout",
          "text": [
            "Número do funcionário: 25\n",
            "Número de horas trabalhadas: 100\n",
            "Valor recebido por hora: 5.50\n",
            "Número do funcionário: 25\n",
            "Salário: 550.00\n"
          ]
        }
      ]
    },
    {
      "cell_type": "markdown",
      "source": [
        "#Salário com Bônus\n",
        "\n",
        "Faça um programa que leia o nome de um vendedor, o seu salário fixo e o total de vendas efetuadas por ele no mês (em dinheiro). Sabendo que este vendedor ganha 15% de comissão sobre suas vendas efetuadas, informar o total a receber no final do mês, com duas casas decimais.\n",
        "\n",
        "Entrada\n",
        "O arquivo de entrada contém um texto (primeiro nome do vendedor) e 2 valores de dupla precisão (double) com duas casas decimais, representando o salário fixo do vendedor e montante total das vendas efetuadas por este vendedor, respectivamente.\n",
        "\n",
        "Saída\n",
        "Imprima o total que o funcionário deverá receber, conforme exemplo fornecido."
      ],
      "metadata": {
        "id": "MxDoh17UcQZn"
      }
    },
    {
      "cell_type": "code",
      "source": [
        "nome = input('Nome do vendedor: ')\n",
        "salario_fixo = float(input('Salário fixo: '))\n",
        "total_vendas = float(input('Total de vendas efetuadas no mês: '))\n",
        "\n",
        "total_recebido = (salario_fixo) + (total_vendas * 0.15)\n",
        "\n",
        "print(f'Total recebido = {total_recebido:.2f}')"
      ],
      "metadata": {
        "colab": {
          "base_uri": "https://localhost:8080/"
        },
        "id": "2fzHHWt0cF3S",
        "outputId": "bb9425e8-d319-461a-a4d2-e15fb92de8d0"
      },
      "execution_count": null,
      "outputs": [
        {
          "output_type": "stream",
          "name": "stdout",
          "text": [
            "Nome do vendedor: Joao\n",
            "Salário fixo: 500\n",
            "Total de vendas efetuadas no mês: 1230.30\n",
            "Total recebido = 684.54\n"
          ]
        }
      ]
    },
    {
      "cell_type": "markdown",
      "source": [
        "#Cálculo Simples\n",
        "\n",
        "Neste problema, deve-se ler o código de uma peça 1, o número de peças 1, o valor unitário de cada peça 1, o código de uma peça 2, o número de peças 2 e o valor unitário de cada peça 2. Após, calcule e mostre o valor a ser pago.\n",
        "\n",
        "Entrada\n",
        "O arquivo de entrada contém duas linhas de dados. Em cada linha haverá 3 valores, respectivamente dois inteiros e um valor com 2 casas decimais.\n",
        "\n",
        "Saída\n",
        "A saída deverá ser uma mensagem conforme o exemplo fornecido abaixo, lembrando de deixar um espaço após os dois pontos e um espaço após o \"R$\". O valor deverá ser apresentado com 2 casas após o ponto."
      ],
      "metadata": {
        "id": "oD3qdIxRe2oW"
      }
    },
    {
      "cell_type": "code",
      "source": [
        "codigo_peca_1 = int(input('Digite o código da peça 1: '))\n",
        "numero_pecas_1 = int(input('Digite o número das peças'))\n",
        "valor_unitario_1 = float(input('Digite o valor unitário: '))\n",
        "\n",
        "codigo_peca_2 = int(input('Digite o código da peça 2: '))\n",
        "numero_pecas_2 = int(input('Digite o número das peças:'))\n",
        "valor_unitario_2 = float(input('Digite o valor unitário: '))\n",
        "\n",
        "valor_pago = (numero_pecas_1 * valor_unitario_1) + (numero_pecas_2 * valor_unitario_2)\n",
        "\n",
        "print(f'Valor a pagar: {valor_pago:.2f}')"
      ],
      "metadata": {
        "colab": {
          "base_uri": "https://localhost:8080/"
        },
        "id": "YIWD0dW9exJN",
        "outputId": "ff1c97f5-3f2b-4aca-9bd6-458abce249ba"
      },
      "execution_count": null,
      "outputs": [
        {
          "output_type": "stream",
          "name": "stdout",
          "text": [
            "Digite o código da peça 1: 12\n",
            "Digite o número das peças1\n",
            "Digite o valor unitário: 5.30\n",
            "Digite o código da peça 2: 16\n",
            "Digite o número das peças2\n",
            "Digite o valor unitário: 5.10\n",
            "Valor a pagar: 15.50\n"
          ]
        }
      ]
    },
    {
      "cell_type": "markdown",
      "source": [
        "#Esfera\n",
        "\n",
        "Faça um programa que calcule e mostre o volume de uma esfera sendo fornecido o valor de seu raio (R). A fórmula para calcular o volume é: (4/3) * pi * R3. Considere (atribua) para pi o valor 3.14159.\n",
        "\n",
        "Dica: Ao utilizar a fórmula, procure usar (4/3.0) ou (4.0/3), pois algumas linguagens (dentre elas o C++), assumem que o resultado da divisão entre dois inteiros é outro inteiro.\n",
        "\n",
        "Entrada\n",
        "O arquivo de entrada contém um valor de ponto flutuante (dupla precisão), correspondente ao raio da esfera.\n",
        "\n",
        "Saída\n",
        "A saída deverá ser uma mensagem \"VOLUME\" conforme o exemplo fornecido abaixo, com um espaço antes e um espaço depois da igualdade. O valor deverá ser apresentado com 3 casas após o ponto."
      ],
      "metadata": {
        "id": "9s66gjOzhLik"
      }
    },
    {
      "cell_type": "code",
      "source": [
        "import math\n",
        "\n",
        "raio = float(input('Digite o valor do raio: '))\n",
        "\n",
        "volume_esfera = 4/3 * math.pi * raio **3\n",
        "\n",
        "print(f'Volume da esfera: {volume_esfera:.3f}')"
      ],
      "metadata": {
        "colab": {
          "base_uri": "https://localhost:8080/"
        },
        "id": "_bpno3cPg-mC",
        "outputId": "bb9bf035-4332-4e70-ab3d-1210f9c006ca"
      },
      "execution_count": null,
      "outputs": [
        {
          "output_type": "stream",
          "name": "stdout",
          "text": [
            "Digite o valor do raio: 3\n",
            "Volume da esfera: 113.097\n"
          ]
        }
      ]
    },
    {
      "cell_type": "markdown",
      "source": [
        "#Área\n",
        "\n",
        "Escreva um programa que leia três valores com ponto flutuante de dupla precisão: A, B e C. Em seguida, calcule e mostre:\n",
        "a) a área do triângulo retângulo que tem A por base e C por altura.\n",
        "b) a área do círculo de raio C. (pi = 3.14159)\n",
        "c) a área do trapézio que tem A e B por bases e C por altura.\n",
        "d) a área do quadrado que tem lado B.\n",
        "e) a área do retângulo que tem lados A e B.\n",
        "\n",
        "Entrada\n",
        "O arquivo de entrada contém três valores com um dígito após o ponto decimal.\n",
        "\n",
        "Saída\n",
        "O arquivo de saída deverá conter 5 linhas de dados. Cada linha corresponde a uma das áreas descritas acima, sempre com mensagem correspondente e um espaço entre os dois pontos e o valor. O valor calculado deve ser apresentado com 3 dígitos após o ponto decimal."
      ],
      "metadata": {
        "id": "5hZWXX_rkhvQ"
      }
    },
    {
      "cell_type": "code",
      "source": [
        "import math\n",
        "\n",
        "a = float(input('Digite o primeiro valor: '))\n",
        "b = float(input('Digite o segundo valor: '))\n",
        "c = float(input('Digite o terceiro valor: '))\n",
        "\n",
        "area_triangulo_retangulo = (a*c)/2    #A = b*h/2]\n",
        "area_circulo = math.pi * c**2       #A = π r²\n",
        "area_trapezio = (a+b)*c/2     #A=(a+b)h/2\n",
        "area_quadrado = b**2     #A = L²\n",
        "area_retangulo = a*b      #A = b ⋅ h\n",
        "\n",
        "print(f'Triângulo: {area_triangulo_retangulo:.3f}')\n",
        "print(f'Círculo: {area_circulo:.3f}')\n",
        "print(f'Trapézio: {area_trapezio:.3f}')\n",
        "print(f'Quadrado: {area_quadrado:.3f}')\n",
        "print(f'Retângulo: {area_retangulo:.3f}')\n",
        "\n"
      ],
      "metadata": {
        "colab": {
          "base_uri": "https://localhost:8080/"
        },
        "id": "ewMjXYuokZ_N",
        "outputId": "799a38ab-d66f-434a-d3a8-5abbafccd528"
      },
      "execution_count": null,
      "outputs": [
        {
          "output_type": "stream",
          "name": "stdout",
          "text": [
            "Digite o primeiro valor: 3.0\n",
            "Digite o segundo valor: 4.0\n",
            "Digite o terceiro valor: 5.2\n",
            "Triângulo: 7.800\n",
            "Círculo: 84.949\n",
            "Trapézio: 18.200\n",
            "Quadrado: 16.000\n",
            "Retângulo: 12.000\n"
          ]
        }
      ]
    },
    {
      "cell_type": "markdown",
      "source": [
        "#O Maior\n",
        "\n",
        "Faça um programa que leia três valores e apresente o maior dos três valores lidos seguido da mensagem “eh o maior”. Utilize a fórmula:\n",
        "\n",
        "\n",
        "\n",
        "Obs.: a fórmula apenas calcula o maior entre os dois primeiros (a e b). Um segundo passo, portanto é necessário para chegar no resultado esperado.\n",
        "\n",
        "Entrada\n",
        "O arquivo de entrada contém três valores inteiros.\n",
        "\n",
        "Saída\n",
        "Imprima o maior dos três valores seguido por um espaço e a mensagem \"eh o maior\".\n"
      ],
      "metadata": {
        "id": "A8Y9R_JArOOr"
      }
    },
    {
      "cell_type": "code",
      "source": [
        "a = int(input('Digite o primeiro valor: '))\n",
        "b = int(input('Digite o segundo valor: '))\n",
        "c = int(input('Digite o terceiro valor: '))\n",
        "\n",
        "maior = (a+b+abs(a-b))/2   #maior entre a e b\n",
        "\n",
        "maior = (maior + c + abs(maior - c)) / 2  # Comparando com c\n",
        "\n",
        "print(f'{maior:.0f} é o maior')\n",
        "\n"
      ],
      "metadata": {
        "id": "ux5rkIvnqA2y",
        "colab": {
          "base_uri": "https://localhost:8080/"
        },
        "outputId": "2a283295-e6e7-478f-b9b9-ed91eff2b3f4"
      },
      "execution_count": 3,
      "outputs": [
        {
          "output_type": "stream",
          "name": "stdout",
          "text": [
            "Digite o primeiro valor: 7\n",
            "Digite o segundo valor: 14\n",
            "Digite o terceiro valor: 106\n",
            "106 é o maior\n"
          ]
        }
      ]
    },
    {
      "cell_type": "markdown",
      "source": [
        "#Consumo\n",
        "\n",
        "Calcule o consumo médio de um automóvel sendo fornecidos a distância total percorrida (em Km) e o total de combustível gasto (em litros).\n",
        "\n",
        "Entrada\n",
        "O arquivo de entrada contém dois valores: um valor inteiro X representando a distância total percorrida (em Km), e um valor real Y representando o total de combustível gasto, com um dígito após o ponto decimal.\n",
        "\n",
        "Saída\n",
        "Apresente o valor que representa o consumo médio do automóvel com 3 casas após a vírgula, seguido da mensagem \"km/l\"."
      ],
      "metadata": {
        "id": "rDLOCavZqzJ7"
      }
    },
    {
      "cell_type": "code",
      "source": [
        "distancia_total = int(input('Distância total percorrida em (Km): '))\n",
        "total_combustivel_gasto = float(input('Total de combustível gasto: '))\n",
        "\n",
        "print(f'Consumo médio do automóvel: {distancia_total/total_combustivel_gasto:.3f} km/l')\n"
      ],
      "metadata": {
        "colab": {
          "base_uri": "https://localhost:8080/"
        },
        "id": "Joh_O4wmqw8p",
        "outputId": "306c9a1d-3a19-401f-dbb3-30f4a6764bf9"
      },
      "execution_count": 5,
      "outputs": [
        {
          "output_type": "stream",
          "name": "stdout",
          "text": [
            "Distância total percorrida em (Km): 500\n",
            "Total de combustível gasto: 35.0\n",
            "Consumo médio do automóvel: 14.286 km/l\n"
          ]
        }
      ]
    },
    {
      "cell_type": "markdown",
      "source": [
        "#Distância Entre Dois Pontos\n",
        "\n",
        "Leia os quatro valores correspondentes aos eixos x e y de dois pontos quaisquer no plano, p1(x1,y1) e p2(x2,y2) e calcule a distância entre eles, mostrando 4 casas decimais, segundo a fórmula:\n",
        "\n",
        "Distancia =\n",
        "\n",
        "Entrada\n",
        "O arquivo de entrada contém duas linhas de dados. A primeira linha contém dois valores de ponto flutuante: x1 y1 e a segunda linha contém dois valores de ponto flutuante x2 y2.\n",
        "\n",
        "Saída\n",
        "Calcule e imprima o valor da distância segundo a fórmula fornecida, considerando 4 casas decimais."
      ],
      "metadata": {
        "id": "N2b6ouaWuyZP"
      }
    },
    {
      "cell_type": "code",
      "source": [
        "import math\n",
        "\n",
        "x1 = float(input('x1 = '))\n",
        "y1 = float(input('y1 = '))\n",
        "x2 = float(input('x2 = '))\n",
        "y2 = float(input('y2 = '))\n",
        "\n",
        "distancia = math.sqrt((x2 -x1) ** 2 + (y2 - y1) ** 2)\n",
        "\n",
        "print(f'Distância = {distancia:.4f}')"
      ],
      "metadata": {
        "colab": {
          "base_uri": "https://localhost:8080/"
        },
        "id": "Qx5LmZrFubVK",
        "outputId": "889c747e-51bf-4ddf-bd57-53572f81d732"
      },
      "execution_count": 8,
      "outputs": [
        {
          "output_type": "stream",
          "name": "stdout",
          "text": [
            "x1 = 1.0\n",
            "y1 = 7.0\n",
            "x2 = 5.0\n",
            "y2 = 9.0\n",
            "Distância = 4.4721\n"
          ]
        }
      ]
    },
    {
      "cell_type": "markdown",
      "source": [
        "#Distância\n",
        "\n",
        "Dois carros (X e Y) partem em uma mesma direção. O carro X sai com velocidade constante de 60 Km/h e o carro Y sai com velocidade constante de 90 Km/h.\n",
        "\n",
        "Em uma hora (60 minutos) o carro Y consegue se distanciar 30 quilômetros do carro X, ou seja, consegue se afastar um quilômetro a cada 2 minutos.\n",
        "\n",
        "Leia a distância (em Km) e calcule quanto tempo leva (em minutos) para o carro Y tomar essa distância do outro carro.\n",
        "\n",
        "Entrada\n",
        "O arquivo de entrada contém um número inteiro.\n",
        "\n",
        "Saída\n",
        "Imprima o tempo necessário seguido da mensagem \"minutos\"."
      ],
      "metadata": {
        "id": "fYt_ln1IzmHx"
      }
    },
    {
      "cell_type": "code",
      "source": [
        "distancia = int(input('Digite a distância: '))\n",
        "tempo = distancia * 2\n",
        "print(f'{tempo} minutos')"
      ],
      "metadata": {
        "colab": {
          "base_uri": "https://localhost:8080/"
        },
        "id": "8uY5B2Cyxxdl",
        "outputId": "4342fa65-a407-4798-8e5f-506ca6950dae"
      },
      "execution_count": 9,
      "outputs": [
        {
          "output_type": "stream",
          "name": "stdout",
          "text": [
            "Digite a distância: 30\n",
            "60 minutos\n"
          ]
        }
      ]
    },
    {
      "cell_type": "markdown",
      "source": [
        "#Gasto de Combustível\n",
        "\n",
        "Joaozinho quer calcular e mostrar a quantidade de litros de combustível gastos em uma viagem, ao utilizar um automóvel que faz 12 KM/L. Para isso, ele gostaria que você o auxiliasse através de um simples programa. Para efetuar o cálculo, deve-se fornecer o tempo gasto na viagem (em horas) e a velocidade média durante a mesma (em km/h). Assim, pode-se obter distância percorrida e, em seguida, calcular quantos litros seriam necessários. Mostre o valor com 3 casas decimais após o ponto.\n",
        "\n",
        "Entrada\n",
        "O arquivo de entrada contém dois inteiros. O primeiro é o tempo gasto na viagem (em horas) e o segundo é a velocidade média durante a mesma (em km/h).\n",
        "\n",
        "Saída\n",
        "Imprima a quantidade de litros necessária para realizar a viagem, com três dígitos após o ponto decimal"
      ],
      "metadata": {
        "id": "LlA2ysXW6CvU"
      }
    },
    {
      "cell_type": "code",
      "source": [
        "tempo_gasto = int(input('Tempo gasto na viagem: '))\n",
        "velocidade_media = int(input('Velocidade Média: '))\n",
        "\n",
        "distancia_percorrida = tempo_gasto * velocidade_media\n",
        "\n",
        "combustivel_gasto = distancia_percorrida/12         #12 KM/L é o consumo do automóvel\n",
        "\n",
        "print(f'Quantidade de litros: {combustivel_gasto:.3f}')"
      ],
      "metadata": {
        "colab": {
          "base_uri": "https://localhost:8080/"
        },
        "id": "QumS3YwX5c3d",
        "outputId": "bde7f792-fbb3-4492-aee7-96f1a1e96cd0"
      },
      "execution_count": 12,
      "outputs": [
        {
          "output_type": "stream",
          "name": "stdout",
          "text": [
            "Tempo gasto na viagem: 10\n",
            "Velocidade Média: 85\n",
            "Quantidade de litros: 70.833\n"
          ]
        }
      ]
    },
    {
      "cell_type": "markdown",
      "source": [
        "#Cédulas\n",
        "\n",
        "Leia um valor inteiro. A seguir, calcule o menor número de notas possíveis (cédulas) no qual o valor pode ser decomposto. As notas consideradas são de 100, 50, 20, 10, 5, 2 e 1. A seguir mostre o valor lido e a relação de notas necessárias.\n",
        "\n",
        "Entrada\n",
        "O arquivo de entrada contém um valor inteiro N (0 < N < 1000000).\n",
        "\n",
        "Saída\n",
        "Imprima o valor lido e, em seguida, a quantidade mínima de notas de cada tipo necessárias, conforme o exemplo fornecido. Não esqueça de imprimir o fim de linha após cada linha, caso contrário seu programa apresentará a mensagem: “Presentation Error”."
      ],
      "metadata": {
        "id": "WhybgtC-IGek"
      }
    },
    {
      "cell_type": "code",
      "source": [
        "valor = int(input('Valor: '))\n",
        "\n",
        "notas = [100, 50, 20, 10, 5, 2, 1]  #Lista de notas disponíveis\n",
        "\n",
        "for nota in notas:    #Iterar sobre cada tipo de nota\n",
        "    quantidade = valor // nota  # Calcular quantidade de cédulas para a nota atual\n",
        "    valor = valor % nota     #Atualizar o valor restante\n",
        "    print(f'{quantidade} nota(s) de R$ {nota},00')  # Imprimir a quantidade de cédulas\n",
        "\n"
      ],
      "metadata": {
        "colab": {
          "base_uri": "https://localhost:8080/"
        },
        "id": "VlduewAJHmLR",
        "outputId": "0309cc16-e541-4aa8-a890-579bd9042d92"
      },
      "execution_count": 15,
      "outputs": [
        {
          "output_type": "stream",
          "name": "stdout",
          "text": [
            "Valor: 576\n",
            "5 nota(s) de R$ 100,00\n",
            "1 nota(s) de R$ 50,00\n",
            "1 nota(s) de R$ 20,00\n",
            "0 nota(s) de R$ 10,00\n",
            "1 nota(s) de R$ 5,00\n",
            "0 nota(s) de R$ 2,00\n",
            "1 nota(s) de R$ 1,00\n"
          ]
        }
      ]
    },
    {
      "cell_type": "markdown",
      "source": [
        "#Conversão de Tempo\n",
        "\n",
        "Leia um valor inteiro, que é o tempo de duração em segundos de um determinado evento em uma fábrica, e informe-o expresso no formato horas:minutos:segundos.\n",
        "\n",
        "Entrada\n",
        "O arquivo de entrada contém um valor inteiro N.\n",
        "\n",
        "Saída\n",
        "Imprima o tempo lido no arquivo de entrada (segundos), convertido para horas:minutos:segundos, conforme exemplo fornecido."
      ],
      "metadata": {
        "id": "THwmm9THMQqm"
      }
    },
    {
      "cell_type": "code",
      "source": [
        "tempo = int(input('Tempo de duração em segundos: '))  #Valor inteiro que representa o tempo em segundos\n",
        "\n",
        "horas = tempo//3600    #1 hora tem 3600 segundos\n",
        "minutos = (tempo % 3600)//60   #Pegamos o restante e dividimos por 60\n",
        "segundos = tempo % 60      #Pegamos o restante após calcular minutos\n",
        "\n",
        "print(f'{horas}:{minutos}:{segundos}')"
      ],
      "metadata": {
        "colab": {
          "base_uri": "https://localhost:8080/"
        },
        "id": "bdZRsTzsL7QQ",
        "outputId": "781f1396-8f53-4ebb-edfa-60f544046068"
      },
      "execution_count": 16,
      "outputs": [
        {
          "output_type": "stream",
          "name": "stdout",
          "text": [
            "Tempo de duração em segundos: 556\n",
            "0:9:16\n"
          ]
        }
      ]
    },
    {
      "cell_type": "markdown",
      "source": [
        "#Idade em Dias\n",
        "\n",
        "Leia um valor inteiro correspondente à idade de uma pessoa em dias e informe-a em anos, meses e dias\n",
        "\n",
        "Obs.: apenas para facilitar o cálculo, considere todo ano com 365 dias e todo mês com 30 dias. Nos casos de teste nunca haverá uma situação que permite 12 meses e alguns dias, como 360, 363 ou 364. Este é apenas um exercício com objetivo de testar raciocínio matemático simples.\n",
        "\n",
        "Entrada\n",
        "O arquivo de entrada contém um valor inteiro.\n",
        "\n",
        "Saída\n",
        "Imprima a saída conforme exemplo fornecido."
      ],
      "metadata": {
        "id": "YWYw1LkZPsbI"
      }
    },
    {
      "cell_type": "code",
      "source": [
        "idade = int(input('Idade:'))\n",
        "\n",
        "ano = idade//365     #1 ano tem 365 dias\n",
        "mes = (idade % 365)//30     #1 mês tem 30dias\n",
        "dia = (idade % 365) % 30\n",
        "\n",
        "print(f'{ano} ano(s)')\n",
        "print(f'{mes} mes(es)')\n",
        "print(f'{dia} dia(s)')"
      ],
      "metadata": {
        "colab": {
          "base_uri": "https://localhost:8080/"
        },
        "id": "2O09yCldPoMM",
        "outputId": "f0478a41-f130-45e1-8089-634c46d95bfd"
      },
      "execution_count": 18,
      "outputs": [
        {
          "output_type": "stream",
          "name": "stdout",
          "text": [
            "Idade:400\n",
            "1 ano(s)\n",
            "1 mes(es)\n",
            "5 dia(s)\n"
          ]
        }
      ]
    },
    {
      "cell_type": "markdown",
      "source": [
        "#Notas e Moedas\n",
        "\n",
        "Leia um valor de ponto flutuante com duas casas decimais. Este valor representa um valor monetário. A seguir, calcule o menor número de notas e moedas possíveis no qual o valor pode ser decomposto. As notas consideradas são de 100, 50, 20, 10, 5, 2. As moedas possíveis são de 1, 0.50, 0.25, 0.10, 0.05 e 0.01. A seguir mostre a relação de notas necessárias.\n",
        "\n",
        "Entrada\n",
        "O arquivo de entrada contém um valor de ponto flutuante N (0 ≤ N ≤ 1000000.00).\n",
        "\n",
        "Saída\n",
        "Imprima a quantidade mínima de notas e moedas necessárias para trocar o valor inicial, conforme exemplo fornecido.\n",
        "\n",
        "Obs: Utilize ponto (.) para separar a parte decimal."
      ],
      "metadata": {
        "id": "RsoRcfEqUVUD"
      }
    },
    {
      "cell_type": "code",
      "source": [
        "n = float(input(\"Valor: \"))\n",
        "\n",
        "# Inicializando as variáveis\n",
        "notas_100 = 0\n",
        "notas_50 = 0\n",
        "notas_20 = 0\n",
        "notas_10 = 0\n",
        "notas_5 = 0\n",
        "notas_2 = 0\n",
        "\n",
        "moedas_1 = 0\n",
        "moedas_50 = 0\n",
        "moedas_25 = 0\n",
        "moedas_10 = 0\n",
        "moedas_05 = 0\n",
        "moedas_01 = 0\n",
        "\n",
        "# Cálculo das notas\n",
        "notas_100 = int(n / 100)\n",
        "n = n % 100\n",
        "\n",
        "notas_50 = int(n / 50)\n",
        "n = n % 50\n",
        "\n",
        "notas_20 = int(n / 20)\n",
        "n = n % 20\n",
        "\n",
        "notas_10 = int(n / 10)\n",
        "n = n % 10\n",
        "\n",
        "notas_5 = int(n / 5)\n",
        "n = n % 5\n",
        "\n",
        "notas_2 = int(n / 2)\n",
        "n = n % 2\n",
        "\n",
        "# Cálculo das moedas\n",
        "moedas_1 = int(n / 1)\n",
        "n = n % 1\n",
        "\n",
        "# Convertendo o restante para centavos\n",
        "n = round(n * 100)  # Multiplica por 100 para converter para centavos\n",
        "\n",
        "moedas_50 = int(n / 50)\n",
        "n = n % 50\n",
        "\n",
        "moedas_25 = int(n / 25)\n",
        "n = n % 25\n",
        "\n",
        "moedas_10 = int(n / 10)\n",
        "n = n % 10\n",
        "\n",
        "moedas_05 = int(n / 5)\n",
        "n = n % 5\n",
        "\n",
        "moedas_01 = int(n)\n",
        "\n",
        "# Saída formatada\n",
        "print(\"NOTAS:\")\n",
        "print(f\"{notas_100} nota(s) de R$ 100.00\")\n",
        "print(f\"{notas_50} nota(s) de R$ 50.00\")\n",
        "print(f\"{notas_20} nota(s) de R$ 20.00\")\n",
        "print(f\"{notas_10} nota(s) de R$ 10.00\")\n",
        "print(f\"{notas_5} nota(s) de R$ 5.00\")\n",
        "print(f\"{notas_2} nota(s) de R$ 2.00\")\n",
        "\n",
        "print(\"MOEDAS:\")\n",
        "print(f\"{moedas_1} moeda(s) de R$ 1.00\")\n",
        "print(f\"{moedas_50} moeda(s) de R$ 0.50\")\n",
        "print(f\"{moedas_25} moeda(s) de R$ 0.25\")\n",
        "print(f\"{moedas_10} moeda(s) de R$ 0.10\")\n",
        "print(f\"{moedas_05} moeda(s) de R$ 0.05\")\n",
        "print(f\"{moedas_01} moeda(s) de R$ 0.01\")"
      ],
      "metadata": {
        "colab": {
          "base_uri": "https://localhost:8080/"
        },
        "id": "McMXJ2LSSszd",
        "outputId": "18bf9ddc-461d-4cdd-b8f7-487675b9753b"
      },
      "execution_count": 39,
      "outputs": [
        {
          "output_type": "stream",
          "name": "stdout",
          "text": [
            "Valor: 576.73\n",
            "NOTAS:\n",
            "5 nota(s) de R$ 100.00\n",
            "1 nota(s) de R$ 50.00\n",
            "1 nota(s) de R$ 20.00\n",
            "0 nota(s) de R$ 10.00\n",
            "1 nota(s) de R$ 5.00\n",
            "0 nota(s) de R$ 2.00\n",
            "MOEDAS:\n",
            "1 moeda(s) de R$ 1.00\n",
            "1 moeda(s) de R$ 0.50\n",
            "0 moeda(s) de R$ 0.25\n",
            "2 moeda(s) de R$ 0.10\n",
            "0 moeda(s) de R$ 0.05\n",
            "3 moeda(s) de R$ 0.01\n"
          ]
        }
      ]
    },
    {
      "cell_type": "markdown",
      "source": [
        "#Teste de Seleção 1\n",
        "\n",
        "Leia 4 valores inteiros A, B, C e D. A seguir, se B for maior do que C e se D for maior do que A, e a soma de C com D for maior que a soma de A e B e se C e D, ambos, forem positivos e se a variável A for par escrever a mensagem \"Valores aceitos\", senão escrever \"Valores nao aceitos\".\n",
        "\n",
        "Entrada\n",
        "Quatro números inteiros A, B, C e D.\n",
        "\n",
        "Saída\n",
        "Mostre a respectiva mensagem após a validação dos valores."
      ],
      "metadata": {
        "id": "avbppIMRtePy"
      }
    },
    {
      "cell_type": "code",
      "source": [
        "a = int(input())\n",
        "b = int(input())\n",
        "c = int(input())\n",
        "d = int(input())\n",
        "\n",
        "if (b > c) and (d > a) and (c + d > a + b > 0):\n",
        "  print('Valores aceitos')\n",
        "else:\n",
        "    print('Valores não aceitos ')\n",
        "\n",
        ""
      ],
      "metadata": {
        "colab": {
          "base_uri": "https://localhost:8080/"
        },
        "id": "4UxB2pItlMrm",
        "outputId": "e4498262-0c7a-4e21-d020-5f44cfbff997"
      },
      "execution_count": 42,
      "outputs": [
        {
          "output_type": "stream",
          "name": "stdout",
          "text": [
            "2\n",
            "3\n",
            "2\n",
            "6\n",
            "Valores aceitos\n"
          ]
        }
      ]
    },
    {
      "cell_type": "markdown",
      "source": [
        "#Fórmula de Bhaskara\n",
        "\n",
        "Leia 3 valores de ponto flutuante e efetue o cálculo das raízes da equação de Bhaskara. Se não for possível calcular as raízes, mostre a mensagem correspondente “Impossivel calcular”, caso haja uma divisão por 0 ou raiz de numero negativo.\n",
        "\n",
        "Entrada\n",
        "Leia três valores de ponto flutuante (double) A, B e C.\n",
        "\n",
        "Saída\n",
        "Se não houver possibilidade de calcular as raízes, apresente a mensagem \"Impossivel calcular\". Caso contrário, imprima o resultado das raízes com 5 dígitos após o ponto, com uma mensagem correspondente conforme exemplo abaixo. Imprima sempre o final de linha após cada mensagem.\n",
        "\n"
      ],
      "metadata": {
        "id": "p6hmRs7Fw00p"
      }
    },
    {
      "cell_type": "code",
      "source": [
        "'''Δ = b² - 4ac\n",
        "\n",
        "Δ > 0\n",
        "A equação tem duas raízes reais e distintas\n",
        "Δ = 0\n",
        "A equação tem uma raiz real\n",
        "Δ < 0\n",
        "A equação não tem raízes reais\n",
        "\n",
        "x1 = (-b + √(Δ)) / 2a\n",
        "x2 = (-b - √(Δ)) / 2a\n",
        "'''\n",
        "\n",
        "a = float(input())\n",
        "b = float(input())\n",
        "c = float(input())\n",
        "\n",
        "delta = (b ** 2 - 4 * a * c)\n",
        "\n",
        "if (delta == 0 or delta < 0):\n",
        "  print('Impossível calcular')\n",
        "else:\n",
        "    x1 = (-b + math.sqrt(delta)) / (2 * a)\n",
        "    x2 = (-b - math.sqrt(delta)) / (2 * a)\n",
        "    print(f'x1 = {x1:.5f}')\n",
        "    print(f'x2 = {x2:.5f}')\n",
        ""
      ],
      "metadata": {
        "colab": {
          "base_uri": "https://localhost:8080/"
        },
        "id": "Xpg3RfDgvbSs",
        "outputId": "24ad3243-7417-4ed8-e8f5-45d0f1085874"
      },
      "execution_count": 44,
      "outputs": [
        {
          "output_type": "stream",
          "name": "stdout",
          "text": [
            "10.0\n",
            "20.1\n",
            "5.1\n",
            "x1 = -0.29788\n",
            "x2 = -1.71212\n"
          ]
        }
      ]
    },
    {
      "cell_type": "markdown",
      "source": [
        "#Intervalo\n",
        "\n",
        "Você deve fazer um programa que leia um valor qualquer e apresente uma mensagem dizendo em qual dos seguintes intervalos ([0,25], (25,50], (50,75], (75,100]) este valor se encontra. Obviamente se o valor não estiver em nenhum destes intervalos, deverá ser impressa a mensagem “Fora de intervalo”.\n",
        "\n",
        "O símbolo ( representa \"maior que\". Por exemplo:\n",
        "[0,25]  indica valores entre 0 e 25.0000, inclusive eles.\n",
        "(25,50] indica valores maiores que 25 Ex: 25.00001 até o valor 50.0000000\n",
        "\n",
        "Entrada\n",
        "O arquivo de entrada contém um número com ponto flutuante qualquer.\n",
        "\n",
        "Saída\n",
        "A saída deve ser uma mensagem conforme exemplo abaixo."
      ],
      "metadata": {
        "id": "li0sMkHW--O_"
      }
    },
    {
      "cell_type": "code",
      "source": [
        "valor = float(input())\n",
        "\n",
        "if (valor >= 0) and (valor <= 25):\n",
        "  print('Intervalor[0,25]')\n",
        "elif (valor > 25)  and (valor <= 50):\n",
        "    print('Intervalo [25, 50]')\n",
        "elif (valor > 50) and (valor <= 75):\n",
        "    print('Intervalo [50,75]')\n",
        "elif (valor > 75) and (valor <= 100):\n",
        "    print('Intervalo [75,00]')\n",
        "else:\n",
        "    print('Fora do intervalo')"
      ],
      "metadata": {
        "colab": {
          "base_uri": "https://localhost:8080/"
        },
        "id": "_F3-Ql7o6H8R",
        "outputId": "091e188e-f85e-4c70-88ff-6b2a1ac125b0"
      },
      "execution_count": 47,
      "outputs": [
        {
          "output_type": "stream",
          "name": "stdout",
          "text": [
            "25.00\n",
            "Intervalor[0,25]\n"
          ]
        }
      ]
    },
    {
      "cell_type": "markdown",
      "source": [
        "#Lanche\n",
        "\n",
        "Com base na tabela abaixo, escreva um programa que leia o código de um item e a quantidade deste item. A seguir, calcule e mostre o valor da conta a pagar.\n",
        "\n",
        "Entrada\n",
        "O arquivo de entrada contém dois valores inteiros correspondentes ao código e à quantidade de um item conforme tabela acima.\n",
        "\n",
        "Saída\n",
        "O arquivo de saída deve conter a mensagem \"Total: R$ \" seguido pelo valor a ser pago, com 2 casas após o ponto decimal.\n"
      ],
      "metadata": {
        "id": "E0DslAOjB_4J"
      }
    },
    {
      "cell_type": "code",
      "source": [
        "codigo = int(input('Código: '))\n",
        "quantidade = int(input('Quantidade: '))\n",
        "\n",
        "if (codigo == 1):\n",
        "  preco = 4.00\n",
        "elif (codigo == 2):\n",
        "    preco = 4.50\n",
        "elif (codigo == 3):\n",
        "    preco = 5.00\n",
        "elif (codigo == 4):\n",
        "    preco = 2.00\n",
        "elif (codigo == 5):\n",
        "    preco = 1.50\n",
        "else:\n",
        "    print('Código inválido')\n",
        "\n",
        "total = preco * quantidade\n",
        "print(f'Total: R${total:.2f}')"
      ],
      "metadata": {
        "colab": {
          "base_uri": "https://localhost:8080/"
        },
        "id": "Bj6ehEq4Bxbt",
        "outputId": "7a6c80a1-7718-4541-ef0c-ab862b02bf36"
      },
      "execution_count": 51,
      "outputs": [
        {
          "output_type": "stream",
          "name": "stdout",
          "text": [
            "Código: 3\n",
            "Quantidade: 2\n",
            "Total: R$10.00\n"
          ]
        }
      ]
    },
    {
      "cell_type": "code",
      "source": [],
      "metadata": {
        "id": "RHDE5pmPHBfG"
      },
      "execution_count": null,
      "outputs": []
    }
  ]
}